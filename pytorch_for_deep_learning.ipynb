{
  "nbformat": 4,
  "nbformat_minor": 0,
  "metadata": {
    "colab": {
      "provenance": [],
      "authorship_tag": "ABX9TyNrpmYajjpamqV3vSromDaA",
      "include_colab_link": true
    },
    "kernelspec": {
      "name": "python3",
      "display_name": "Python 3"
    },
    "language_info": {
      "name": "python"
    }
  },
  "cells": [
    {
      "cell_type": "markdown",
      "metadata": {
        "id": "view-in-github",
        "colab_type": "text"
      },
      "source": [
        "<a href=\"https://colab.research.google.com/github/sneha1012/Pytorch-for-deep-learning/blob/main/pytorch_for_deep_learning.ipynb\" target=\"_parent\"><img src=\"https://colab.research.google.com/assets/colab-badge.svg\" alt=\"Open In Colab\"/></a>"
      ]
    },
    {
      "cell_type": "code",
      "execution_count": 1,
      "metadata": {
        "id": "1_CQx4rzp7ng"
      },
      "outputs": [],
      "source": [
        "import pandas as pd"
      ]
    },
    {
      "cell_type": "code",
      "source": [
        "weight1 = 0.5\n",
        "weight2 = 0.5\n",
        "bias = -0.7"
      ],
      "metadata": {
        "id": "0yFq4dL5sovj"
      },
      "execution_count": 4,
      "outputs": []
    },
    {
      "cell_type": "markdown",
      "source": [
        "inputs and outputs  for AND function"
      ],
      "metadata": {
        "id": "igMdXGx7s1Ry"
      }
    },
    {
      "cell_type": "code",
      "source": [
        "test_inputs = [(0,0), (0,1), (1,0), (1,1)]\n",
        "correct_outputs = [False, False, False, True]\n",
        "outputs = []"
      ],
      "metadata": {
        "id": "9ppQxqbgs6u3"
      },
      "execution_count": 7,
      "outputs": []
    },
    {
      "cell_type": "markdown",
      "source": [
        "generating and checking outputs"
      ],
      "metadata": {
        "id": "xDTb62jXtXoY"
      }
    },
    {
      "cell_type": "code",
      "source": [
        "for test_input, correct_output in zip(test_inputs, correct_outputs):\n",
        "  linear_combination = weight1 * test_input[0] + weight2 * test_input[1] + bias\n",
        "  output = int(linear_combination >=0)\n",
        "  is_correct_string = 'yes' if output == correct_output else 'NO'\n",
        "  outputs.append([test_input[0], test_input[1], linear_combination, output, is_correct_string])"
      ],
      "metadata": {
        "id": "JWogR84CtaJE"
      },
      "execution_count": 10,
      "outputs": []
    },
    {
      "cell_type": "code",
      "source": [
        "num_wrong = len([output[4] for output in outputs if output[4] == 'No'])\n",
        "output_frame = pd.DataFrame(outputs, columns=['Input 1', 'Input 2', 'Linear Combination', 'Activation Output', 'Is Correct'])\n",
        "if not num_wrong:\n",
        "    print('Nice! You got it all correct.\\n')\n",
        "else:\n",
        "    print('You got {} wrong. Keep trying!\\n'.format(num_wrong))\n",
        "    print(output_frame.to_string(index=False))"
      ],
      "metadata": {
        "colab": {
          "base_uri": "https://localhost:8080/"
        },
        "id": "a7ktzR3yyyGU",
        "outputId": "6018ce1c-2f2c-403c-fbdc-8d130e70a923"
      },
      "execution_count": 12,
      "outputs": [
        {
          "output_type": "stream",
          "name": "stdout",
          "text": [
            "Nice! You got it all correct.\n",
            "\n"
          ]
        }
      ]
    }
  ]
}